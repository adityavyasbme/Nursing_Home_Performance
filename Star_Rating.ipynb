{
 "cells": [
  {
   "cell_type": "markdown",
   "metadata": {},
   "source": [
    "# Insights\n",
    "\n",
    "## Part 1\n",
    "1. 'Processing Date' is same for all the rows, therefore, can be dropped\n",
    "2. Provider Name can have similar names; For example, 'MILLER'S MERRY MANOR' is being repeated 30 times but all have different Federal Provider Number(FPN) and also all have different addresses [Verified above]. All the provider have an unique FPN.     \n",
    "3. Lot's of rating values are unavailable \n",
    "\n",
    "## Part 2\n",
    "1. Getting the Provider Info dataset i.e. the original datasource of \"Star_Rating Dataset\"\n",
    "2. Match both the dataset for inconsistency"
   ]
  },
  {
   "cell_type": "code",
   "execution_count": 59,
   "metadata": {},
   "outputs": [],
   "source": [
    "#Importing the Libraries\n",
    "import pandas as pd\n",
    "import numpy as np\n",
    "import matplotlib.pyplot as plt\n",
    "pd.options.display.max_columns = None\n"
   ]
  },
  {
   "cell_type": "code",
   "execution_count": 60,
   "metadata": {},
   "outputs": [],
   "source": [
    "#Reading DataSet - Star Ratings\n",
    "df = pd.read_csv(\"Star_Ratings.csv\",index_col=False)"
   ]
  },
  {
   "cell_type": "markdown",
   "metadata": {},
   "source": [
    "## Part 1 "
   ]
  },
  {
   "cell_type": "code",
   "execution_count": 61,
   "metadata": {
    "scrolled": true
   },
   "outputs": [
    {
     "data": {
      "text/html": [
       "<div>\n",
       "<style scoped>\n",
       "    .dataframe tbody tr th:only-of-type {\n",
       "        vertical-align: middle;\n",
       "    }\n",
       "\n",
       "    .dataframe tbody tr th {\n",
       "        vertical-align: top;\n",
       "    }\n",
       "\n",
       "    .dataframe thead th {\n",
       "        text-align: right;\n",
       "    }\n",
       "</style>\n",
       "<table border=\"1\" class=\"dataframe\">\n",
       "  <thead>\n",
       "    <tr style=\"text-align: right;\">\n",
       "      <th></th>\n",
       "      <th>Federal Provider Number</th>\n",
       "      <th>Provider Name</th>\n",
       "      <th>Provider State</th>\n",
       "      <th>Overall Rating Footnote</th>\n",
       "      <th>Health Inspection Rating Footnote</th>\n",
       "      <th>QM Rating Footnote</th>\n",
       "      <th>Staffing Rating Footnote</th>\n",
       "      <th>RN Staffing Rating Footnote</th>\n",
       "      <th>Location</th>\n",
       "      <th>Processing Date</th>\n",
       "    </tr>\n",
       "  </thead>\n",
       "  <tbody>\n",
       "    <tr>\n",
       "      <th>0</th>\n",
       "      <td>365333</td>\n",
       "      <td>BOWLING GREEN MANOR</td>\n",
       "      <td>OH</td>\n",
       "      <td>NaN</td>\n",
       "      <td>NaN</td>\n",
       "      <td>NaN</td>\n",
       "      <td>NaN</td>\n",
       "      <td>NaN</td>\n",
       "      <td>1021 W POE RD BOWLING GREEN, OH 43402 (41.3862...</td>\n",
       "      <td>07/01/2020</td>\n",
       "    </tr>\n",
       "    <tr>\n",
       "      <th>1</th>\n",
       "      <td>315254</td>\n",
       "      <td>ALARIS HEALTH AT BOULEVARD EAST</td>\n",
       "      <td>NJ</td>\n",
       "      <td>NaN</td>\n",
       "      <td>NaN</td>\n",
       "      <td>NaN</td>\n",
       "      <td>NaN</td>\n",
       "      <td>NaN</td>\n",
       "      <td>6819 BOULEVARD EAST GUTTENBERG, NJ 07093 (40.7...</td>\n",
       "      <td>07/01/2020</td>\n",
       "    </tr>\n",
       "    <tr>\n",
       "      <th>2</th>\n",
       "      <td>325071</td>\n",
       "      <td>AZTEC HEALTHCARE</td>\n",
       "      <td>NM</td>\n",
       "      <td>NaN</td>\n",
       "      <td>NaN</td>\n",
       "      <td>NaN</td>\n",
       "      <td>NaN</td>\n",
       "      <td>NaN</td>\n",
       "      <td>500 CARE LANE AZTEC, NM 87410 (36.835292, -108...</td>\n",
       "      <td>07/01/2020</td>\n",
       "    </tr>\n",
       "    <tr>\n",
       "      <th>3</th>\n",
       "      <td>265873</td>\n",
       "      <td>UNION CARE CENTER</td>\n",
       "      <td>MO</td>\n",
       "      <td>NaN</td>\n",
       "      <td>NaN</td>\n",
       "      <td>NaN</td>\n",
       "      <td>NaN</td>\n",
       "      <td>NaN</td>\n",
       "      <td>NaN</td>\n",
       "      <td>07/01/2020</td>\n",
       "    </tr>\n",
       "    <tr>\n",
       "      <th>4</th>\n",
       "      <td>495309</td>\n",
       "      <td>PELICAN HEALTH NORFOLK</td>\n",
       "      <td>VA</td>\n",
       "      <td>NaN</td>\n",
       "      <td>NaN</td>\n",
       "      <td>NaN</td>\n",
       "      <td>NaN</td>\n",
       "      <td>NaN</td>\n",
       "      <td>827 NORVIEW AVENUE NORFOLK, VA 23509 (36.89048...</td>\n",
       "      <td>07/01/2020</td>\n",
       "    </tr>\n",
       "    <tr>\n",
       "      <th>...</th>\n",
       "      <td>...</td>\n",
       "      <td>...</td>\n",
       "      <td>...</td>\n",
       "      <td>...</td>\n",
       "      <td>...</td>\n",
       "      <td>...</td>\n",
       "      <td>...</td>\n",
       "      <td>...</td>\n",
       "      <td>...</td>\n",
       "      <td>...</td>\n",
       "    </tr>\n",
       "    <tr>\n",
       "      <th>15399</th>\n",
       "      <td>676456</td>\n",
       "      <td>THE MEDICAL RESORT AT WOODLANDS</td>\n",
       "      <td>TX</td>\n",
       "      <td>NaN</td>\n",
       "      <td>NaN</td>\n",
       "      <td>NaN</td>\n",
       "      <td>NaN</td>\n",
       "      <td>NaN</td>\n",
       "      <td>NaN</td>\n",
       "      <td>07/01/2020</td>\n",
       "    </tr>\n",
       "    <tr>\n",
       "      <th>15400</th>\n",
       "      <td>676461</td>\n",
       "      <td>CASTRO COUNTY HOSPITAL DISTRICT DBA COUNTRY VI...</td>\n",
       "      <td>TX</td>\n",
       "      <td>1.0</td>\n",
       "      <td>1.0</td>\n",
       "      <td>1.0</td>\n",
       "      <td>1.0</td>\n",
       "      <td>1.0</td>\n",
       "      <td>NaN</td>\n",
       "      <td>07/01/2020</td>\n",
       "    </tr>\n",
       "    <tr>\n",
       "      <th>15401</th>\n",
       "      <td>686124</td>\n",
       "      <td>HARMONY HEALTH CENTER</td>\n",
       "      <td>FL</td>\n",
       "      <td>1.0</td>\n",
       "      <td>1.0</td>\n",
       "      <td>1.0</td>\n",
       "      <td>1.0</td>\n",
       "      <td>1.0</td>\n",
       "      <td>9820 N KENDALL DRIVE MIAMI, FL 33176 (25.68728...</td>\n",
       "      <td>07/01/2020</td>\n",
       "    </tr>\n",
       "    <tr>\n",
       "      <th>15402</th>\n",
       "      <td>676459</td>\n",
       "      <td>SEDONA TRACE HEALTH AND WELLNESS</td>\n",
       "      <td>TX</td>\n",
       "      <td>NaN</td>\n",
       "      <td>NaN</td>\n",
       "      <td>NaN</td>\n",
       "      <td>12.0</td>\n",
       "      <td>12.0</td>\n",
       "      <td>8324 CAMERON ROAD AUSTIN, TX 78754 (30.339949,...</td>\n",
       "      <td>07/01/2020</td>\n",
       "    </tr>\n",
       "    <tr>\n",
       "      <th>15403</th>\n",
       "      <td>676470</td>\n",
       "      <td>HOUSTON HEIGHTS HEALTHCARE CENTRE</td>\n",
       "      <td>TX</td>\n",
       "      <td>1.0</td>\n",
       "      <td>1.0</td>\n",
       "      <td>1.0</td>\n",
       "      <td>1.0</td>\n",
       "      <td>1.0</td>\n",
       "      <td>6534 STUEBNER AIRLINE ROAD HOUSTON, TX 77091 (...</td>\n",
       "      <td>07/01/2020</td>\n",
       "    </tr>\n",
       "  </tbody>\n",
       "</table>\n",
       "<p>15404 rows × 10 columns</p>\n",
       "</div>"
      ],
      "text/plain": [
       "      Federal Provider Number  \\\n",
       "0                      365333   \n",
       "1                      315254   \n",
       "2                      325071   \n",
       "3                      265873   \n",
       "4                      495309   \n",
       "...                       ...   \n",
       "15399                  676456   \n",
       "15400                  676461   \n",
       "15401                  686124   \n",
       "15402                  676459   \n",
       "15403                  676470   \n",
       "\n",
       "                                           Provider Name Provider State  \\\n",
       "0                                    BOWLING GREEN MANOR             OH   \n",
       "1                        ALARIS HEALTH AT BOULEVARD EAST             NJ   \n",
       "2                                       AZTEC HEALTHCARE             NM   \n",
       "3                                      UNION CARE CENTER             MO   \n",
       "4                                 PELICAN HEALTH NORFOLK             VA   \n",
       "...                                                  ...            ...   \n",
       "15399                    THE MEDICAL RESORT AT WOODLANDS             TX   \n",
       "15400  CASTRO COUNTY HOSPITAL DISTRICT DBA COUNTRY VI...             TX   \n",
       "15401                              HARMONY HEALTH CENTER             FL   \n",
       "15402                   SEDONA TRACE HEALTH AND WELLNESS             TX   \n",
       "15403                  HOUSTON HEIGHTS HEALTHCARE CENTRE             TX   \n",
       "\n",
       "       Overall Rating Footnote  Health Inspection Rating Footnote  \\\n",
       "0                          NaN                                NaN   \n",
       "1                          NaN                                NaN   \n",
       "2                          NaN                                NaN   \n",
       "3                          NaN                                NaN   \n",
       "4                          NaN                                NaN   \n",
       "...                        ...                                ...   \n",
       "15399                      NaN                                NaN   \n",
       "15400                      1.0                                1.0   \n",
       "15401                      1.0                                1.0   \n",
       "15402                      NaN                                NaN   \n",
       "15403                      1.0                                1.0   \n",
       "\n",
       "       QM Rating Footnote  Staffing Rating Footnote  \\\n",
       "0                     NaN                       NaN   \n",
       "1                     NaN                       NaN   \n",
       "2                     NaN                       NaN   \n",
       "3                     NaN                       NaN   \n",
       "4                     NaN                       NaN   \n",
       "...                   ...                       ...   \n",
       "15399                 NaN                       NaN   \n",
       "15400                 1.0                       1.0   \n",
       "15401                 1.0                       1.0   \n",
       "15402                 NaN                      12.0   \n",
       "15403                 1.0                       1.0   \n",
       "\n",
       "       RN Staffing Rating Footnote  \\\n",
       "0                              NaN   \n",
       "1                              NaN   \n",
       "2                              NaN   \n",
       "3                              NaN   \n",
       "4                              NaN   \n",
       "...                            ...   \n",
       "15399                          NaN   \n",
       "15400                          1.0   \n",
       "15401                          1.0   \n",
       "15402                         12.0   \n",
       "15403                          1.0   \n",
       "\n",
       "                                                Location Processing Date  \n",
       "0      1021 W POE RD BOWLING GREEN, OH 43402 (41.3862...      07/01/2020  \n",
       "1      6819 BOULEVARD EAST GUTTENBERG, NJ 07093 (40.7...      07/01/2020  \n",
       "2      500 CARE LANE AZTEC, NM 87410 (36.835292, -108...      07/01/2020  \n",
       "3                                                    NaN      07/01/2020  \n",
       "4      827 NORVIEW AVENUE NORFOLK, VA 23509 (36.89048...      07/01/2020  \n",
       "...                                                  ...             ...  \n",
       "15399                                                NaN      07/01/2020  \n",
       "15400                                                NaN      07/01/2020  \n",
       "15401  9820 N KENDALL DRIVE MIAMI, FL 33176 (25.68728...      07/01/2020  \n",
       "15402  8324 CAMERON ROAD AUSTIN, TX 78754 (30.339949,...      07/01/2020  \n",
       "15403  6534 STUEBNER AIRLINE ROAD HOUSTON, TX 77091 (...      07/01/2020  \n",
       "\n",
       "[15404 rows x 10 columns]"
      ]
     },
     "execution_count": 61,
     "metadata": {},
     "output_type": "execute_result"
    }
   ],
   "source": [
    "df"
   ]
  },
  {
   "cell_type": "code",
   "execution_count": 62,
   "metadata": {},
   "outputs": [
    {
     "data": {
      "text/plain": [
       "count          15404\n",
       "unique             1\n",
       "top       07/01/2020\n",
       "freq           15404\n",
       "Name: Processing Date, dtype: object"
      ]
     },
     "execution_count": 62,
     "metadata": {},
     "output_type": "execute_result"
    }
   ],
   "source": [
    "df['Processing Date'].describe()"
   ]
  },
  {
   "cell_type": "code",
   "execution_count": 63,
   "metadata": {},
   "outputs": [
    {
     "data": {
      "text/plain": [
       "count                    15404\n",
       "unique                   15137\n",
       "top       MILLER'S MERRY MANOR\n",
       "freq                        30\n",
       "Name: Provider Name, dtype: object"
      ]
     },
     "execution_count": 63,
     "metadata": {},
     "output_type": "execute_result"
    }
   ],
   "source": [
    "df['Provider Name'].describe()"
   ]
  },
  {
   "cell_type": "code",
   "execution_count": 64,
   "metadata": {},
   "outputs": [
    {
     "data": {
      "text/plain": [
       "count      15404\n",
       "unique     15404\n",
       "top       25A402\n",
       "freq           1\n",
       "Name: Federal Provider Number, dtype: object"
      ]
     },
     "execution_count": 64,
     "metadata": {},
     "output_type": "execute_result"
    }
   ],
   "source": [
    "df['Federal Provider Number'].describe()"
   ]
  },
  {
   "cell_type": "code",
   "execution_count": 65,
   "metadata": {},
   "outputs": [
    {
     "data": {
      "text/plain": [
       "count                                                    30\n",
       "unique                                                   30\n",
       "top       1630 S COUNTY FARM RD WARSAW, IN 46580 (41.209...\n",
       "freq                                                      1\n",
       "Name: Location, dtype: object"
      ]
     },
     "execution_count": 65,
     "metadata": {},
     "output_type": "execute_result"
    }
   ],
   "source": [
    "#df[df['Provider Name'].str.contains(\"MILLER'S MERRY MANOR\")]\n",
    "df[df['Provider Name'].str.contains(\"MILLER'S MERRY MANOR\")][\"Location\"].describe()"
   ]
  },
  {
   "cell_type": "markdown",
   "metadata": {},
   "source": [
    "## Part 2 "
   ]
  },
  {
   "cell_type": "code",
   "execution_count": 66,
   "metadata": {},
   "outputs": [],
   "source": [
    "#Reading Dataset - Provider Info\n",
    "df2 = pd.read_csv(\"Provider_info.csv\",index_col=False)"
   ]
  },
  {
   "cell_type": "code",
   "execution_count": 67,
   "metadata": {},
   "outputs": [
    {
     "data": {
      "text/plain": [
       "True"
      ]
     },
     "execution_count": 67,
     "metadata": {},
     "output_type": "execute_result"
    }
   ],
   "source": [
    "set(df2[\"Federal Provider Number\"])==set(df[\"Federal Provider Number\"])"
   ]
  },
  {
   "cell_type": "markdown",
   "metadata": {},
   "source": [
    "This proves that the given dataset, i.e., \"Star rating dataset\" originated from \"Provider Info\" Dataset"
   ]
  },
  {
   "cell_type": "code",
   "execution_count": null,
   "metadata": {},
   "outputs": [],
   "source": []
  }
 ],
 "metadata": {
  "kernelspec": {
   "display_name": "Python 3",
   "language": "python",
   "name": "python3"
  },
  "language_info": {
   "codemirror_mode": {
    "name": "ipython",
    "version": 3
   },
   "file_extension": ".py",
   "mimetype": "text/x-python",
   "name": "python",
   "nbconvert_exporter": "python",
   "pygments_lexer": "ipython3",
   "version": "3.7.6"
  }
 },
 "nbformat": 4,
 "nbformat_minor": 4
}
